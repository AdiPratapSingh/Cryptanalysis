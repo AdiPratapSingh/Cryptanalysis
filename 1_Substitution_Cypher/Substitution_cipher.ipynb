{
 "cells": [
  {
   "cell_type": "code",
   "execution_count": 1,
   "id": "308061f2",
   "metadata": {},
   "outputs": [],
   "source": [
    "def split(word):\n",
    "  return [char for char in word]"
   ]
  },
  {
   "cell_type": "code",
   "execution_count": 2,
   "id": "590a877f",
   "metadata": {},
   "outputs": [],
   "source": [
    "def replace(a,b,list,orig):\n",
    "  for i in range(0,len(list)):\n",
    "    if orig[i]==a:\n",
    "      list[i]=b\n",
    "  return list"
   ]
  },
  {
   "cell_type": "code",
   "execution_count": 3,
   "id": "60aa02bc",
   "metadata": {},
   "outputs": [],
   "source": [
    "text = \"omkf pi hdn cmgef icphsck .H krg vphqkc c,fic mco kqgf ioqag eo qfcmckf oq ficpihdn cm .Kg dcgeficu hfcm pi hdn cmklo uuncdgmc oqfc mc kfoq afihqfiokgq c!Fi cpgy cvkc yeg mfio kdck kha cokh kodjuck vn k fofvfo gqpojicmoqli opiyoa of kihsc nccqki oefc ynr2 juhpck. Fi c jhkklgm yok oMxr9V1x ya flofigvffic xvgfck. Fio kokfice\"\n",
    "text = text.lower()\n",
    "orig = text\n",
    "text = split(text)\n",
    "orig = split(orig)\n",
    "count  = 0\n",
    "l=[0.0]*26\n",
    "size = len(text)\n",
    "for letter in range(0,size):\n",
    "  if text[letter] >= 'a' and text[letter] <='z':\n",
    "    l[int(ord(text[letter]) - ord('a'))] += 1\n",
    "    count +=1\n",
    "fact = count/100\n",
    "for i in range(0,26):\n",
    "  l[i] = l[i]/fact"
   ]
  },
  {
   "cell_type": "code",
   "execution_count": 4,
   "id": "2adc8015",
   "metadata": {},
   "outputs": [
    {
     "data": {
      "text/plain": [
       "[1.937984496124031,\n",
       " 0.0,\n",
       " 13.953488372093023,\n",
       " 2.7131782945736433,\n",
       " 2.3255813953488373,\n",
       " 10.852713178294573,\n",
       " 5.426356589147287,\n",
       " 5.038759689922481,\n",
       " 8.527131782945736,\n",
       " 1.5503875968992247,\n",
       " 10.465116279069766,\n",
       " 1.5503875968992247,\n",
       " 5.038759689922481,\n",
       " 2.7131782945736433,\n",
       " 9.689922480620154,\n",
       " 3.488372093023256,\n",
       " 4.651162790697675,\n",
       " 1.1627906976744187,\n",
       " 0.7751937984496123,\n",
       " 0.0,\n",
       " 1.937984496124031,\n",
       " 2.7131782945736433,\n",
       " 0.0,\n",
       " 1.1627906976744187,\n",
       " 2.3255813953488373,\n",
       " 0.0]"
      ]
     },
     "execution_count": 4,
     "metadata": {},
     "output_type": "execute_result"
    }
   ],
   "source": [
    "l"
   ]
  },
  {
   "cell_type": "code",
   "execution_count": 5,
   "id": "3ccf5ed2",
   "metadata": {},
   "outputs": [
    {
     "data": {
      "text/plain": [
       "'omkf pi hdn cmgef icphsck .h krg vphqkc c,fic mco kqgf ioqag eo qfcmckf oq ficpihdn cm .kg dcgeficu hfcm pi hdn cmklo uuncdgmc oqfc mc kfoq afihqfiokgq c!fi cpgy cvkc yeg mfio kdck kha cokh kodjuck vn k fofvfo gqpojicmoqli opiyoa of kihsc nccqki oefc ynr2 juhpck. fi c jhkklgm yok omxr9v1x ya flofigvffic xvgfck. fio kokfice'"
      ]
     },
     "execution_count": 5,
     "metadata": {},
     "output_type": "execute_result"
    }
   ],
   "source": [
    "text\n",
    "''.join([str(elem) for elem in text])"
   ]
  },
  {
   "cell_type": "code",
   "execution_count": 6,
   "id": "1e31f326",
   "metadata": {},
   "outputs": [
    {
     "data": {
      "text/plain": [
       "'omkf pi hdn Emgef iEphsEk .h krg vphqkE E,fiE mEo kqgf ioqag eo qfEmEkf oq fiEpihdn Em .kg dEgefiEu hfEm pi hdn Emklo uunEdgmE oqfE mE kfoq afihqfiokgq E!fi Epgy EvkE yeg mfio kdEk kha Eokh kodjuEk vn k fofvfo gqpojiEmoqli opiyoa of kihsE nEEqki oefE ynr2 juhpEk. fi E jhkklgm yok omxr9v1x ya flofigvffiE xvgfEk. fio kokfiEe'"
      ]
     },
     "execution_count": 6,
     "metadata": {},
     "output_type": "execute_result"
    }
   ],
   "source": [
    "text = replace(\"c\",\"E\",text,orig)\n",
    "''.join([str(elem) for elem in text])"
   ]
  },
  {
   "cell_type": "code",
   "execution_count": 7,
   "id": "b79bf979",
   "metadata": {},
   "outputs": [
    {
     "data": {
      "text/plain": [
       "'omkT pi hdn EmgeT iEphsEk .h krg vphqkE E,TiE mEo kqgT ioqag eo qTEmEkT oq TiEpihdn Em .kg dEgeTiEu hTEm pi hdn Emklo uunEdgmE oqTE mE kToq aTihqTiokgq E!Ti Epgy EvkE yeg mTio kdEk kha Eokh kodjuEk vn k ToTvTo gqpojiEmoqli opiyoa oT kihsE nEEqki oeTE ynr2 juhpEk. Ti E jhkklgm yok omxr9v1x ya TloTigvTTiE xvgTEk. Tio kokTiEe'"
      ]
     },
     "execution_count": 7,
     "metadata": {},
     "output_type": "execute_result"
    }
   ],
   "source": [
    "text = replace(\"f\",\"T\",text,orig)\n",
    "''.join([str(elem) for elem in text])"
   ]
  },
  {
   "cell_type": "code",
   "execution_count": 8,
   "id": "cf65b2e5",
   "metadata": {},
   "outputs": [
    {
     "data": {
      "text/plain": [
       "'omkT pH hdn EmgeT HEphsEk .h krg vphqkE E,THE mEo kqgT Hoqag eo qTEmEkT oq THEpHhdn Em .kg dEgeTHEu hTEm pH hdn Emklo uunEdgmE oqTE mE kToq aTHhqTHokgq E!TH Epgy EvkE yeg mTHo kdEk kha Eokh kodjuEk vn k ToTvTo gqpojHEmoqlH opHyoa oT kHhsE nEEqkH oeTE ynr2 juhpEk. TH E jhkklgm yok omxr9v1x ya TloTHgvTTHE xvgTEk. THo kokTHEe'"
      ]
     },
     "execution_count": 8,
     "metadata": {},
     "output_type": "execute_result"
    }
   ],
   "source": [
    "text = replace(\"i\",\"H\",text,orig)\n",
    "''.join([str(elem) for elem in text])"
   ]
  },
  {
   "cell_type": "code",
   "execution_count": 9,
   "id": "0b7fc5d9",
   "metadata": {},
   "outputs": [
    {
     "data": {
      "text/plain": [
       "'ImkT pH hdn EmgeT HEphsEk .h krg vphqkE E,THE mEI kqgT HIqag eI qTEmEkT Iq THEpHhdn Em .kg dEgeTHEu hTEm pH hdn EmklI uunEdgmE IqTE mE kTIq aTHhqTHIkgq E!TH Epgy EvkE yeg mTHI kdEk kha EIkh kIdjuEk vn k TITvTI gqpIjHEmIqlH IpHyIa IT kHhsE nEEqkH IeTE ynr2 juhpEk. TH E jhkklgm yIk Imxr9v1x ya TlITHgvTTHE xvgTEk. THI kIkTHEe'"
      ]
     },
     "execution_count": 9,
     "metadata": {},
     "output_type": "execute_result"
    }
   ],
   "source": [
    "text = replace(\"o\",\"I\",text,orig)\n",
    "''.join([str(elem) for elem in text])"
   ]
  },
  {
   "cell_type": "code",
   "execution_count": 10,
   "id": "674d3d06",
   "metadata": {},
   "outputs": [
    {
     "data": {
      "text/plain": [
       "'ImST pH hdn EmgeT HEphsES .h Srg vphqSE E,THE mEI SqgT HIqag eI qTEmEST Iq THEpHhdn Em .Sg dEgeTHEu hTEm pH hdn EmSlI uunEdgmE IqTE mE STIq aTHhqTHISgq E!TH Epgy EvSE yeg mTHI SdES Sha EISh SIdjuES vn S TITvTI gqpIjHEmIqlH IpHyIa IT SHhsE nEEqSH IeTE ynr2 juhpES. TH E jhSSlgm yIS Imxr9v1x ya TlITHgvTTHE xvgTES. THI SISTHEe'"
      ]
     },
     "execution_count": 10,
     "metadata": {},
     "output_type": "execute_result"
    }
   ],
   "source": [
    "text = replace(\"k\",\"S\",text,orig)\n",
    "''.join([str(elem) for elem in text])"
   ]
  },
  {
   "cell_type": "code",
   "execution_count": 11,
   "id": "1d29871a",
   "metadata": {},
   "outputs": [
    {
     "data": {
      "text/plain": [
       "'IRST pH hdn ERgeT HEphsES .h Srg vphqSE E,THE REI SqgT HIqag eI qTEREST Iq THEpHhdn ER .Sg dEgeTHEu hTER pH hdn ERSlI uunEdgRE IqTE RE STIq aTHhqTHISgq E!TH Epgy EvSE yeg RTHI SdES Sha EISh SIdjuES vn S TITvTI gqpIjHERIqlH IpHyIa IT SHhsE nEEqSH IeTE ynr2 juhpES. TH E jhSSlgR yIS IRxr9v1x ya TlITHgvTTHE xvgTES. THI SISTHEe'"
      ]
     },
     "execution_count": 11,
     "metadata": {},
     "output_type": "execute_result"
    }
   ],
   "source": [
    "text = replace(\"m\",\"R\",text,orig)\n",
    "''.join([str(elem) for elem in text])"
   ]
  },
  {
   "cell_type": "code",
   "execution_count": 12,
   "id": "14c6c678",
   "metadata": {},
   "outputs": [
    {
     "data": {
      "text/plain": [
       "'IRST pH hdn ERgeT HEphsES .h Srg vphNSE E,THE REI SNgT HINag eI NTEREST IN THEpHhdn ER .Sg dEgeTHEu hTER pH hdn ERSlI uunEdgRE INTE RE STIN aTHhNTHISgN E!TH Epgy EvSE yeg RTHI SdES Sha EISh SIdjuES vn S TITvTI gNpIjHERINlH IpHyIa IT SHhsE nEENSH IeTE ynr2 juhpES. TH E jhSSlgR yIS IRxr9v1x ya TlITHgvTTHE xvgTES. THI SISTHEe'"
      ]
     },
     "execution_count": 12,
     "metadata": {},
     "output_type": "execute_result"
    }
   ],
   "source": [
    "text = replace(\"q\",\"N\",text,orig)\n",
    "''.join([str(elem) for elem in text])"
   ]
  },
  {
   "cell_type": "code",
   "execution_count": 14,
   "id": "8358621b",
   "metadata": {},
   "outputs": [
    {
     "data": {
      "text/plain": [
       "'IRST pH Adn ERgeT HEpAsES .A Srg vpANSE E,THE REI SNgT HINGg eI NTEREST IN THEpHAdn ER .Sg dEgeTHEu ATER pH Adn ERSlI uunEdgRE INTE RE STIN GTHANTHISgN E!TH Epgy EvSE yeg RTHI SdES SAG EISA SIdjuES vn S TITvTI gNpIjHERINlH IpHyIG IT SHAsE nEENSH IeTE ynr2 juApES. TH E jASSlgR yIS IRxr9v1x yG TlITHgvTTHE xvgTES. THI SISTHEe'"
      ]
     },
     "execution_count": 14,
     "metadata": {},
     "output_type": "execute_result"
    }
   ],
   "source": [
    "# INTE RE STING THAN\n",
    "text = replace(\"a\",\"G\",text,orig)\n",
    "''.join([str(elem) for elem in text])\n",
    "text = replace(\"h\",\"A\",text,orig)\n",
    "''.join([str(elem) for elem in text])"
   ]
  },
  {
   "cell_type": "code",
   "execution_count": 15,
   "id": "a799c110",
   "metadata": {},
   "outputs": [
    {
     "data": {
      "text/plain": [
       "'IRST pH AMn EROeT HEpAsES .A SrO vpANSE E,THE REI SNOT HINGO eI NTEREST IN THEpHAMn ER .SO MEOeTHEu ATER pH AMn ERSlI uunEMORE INTE RE STIN GTHANTHISON E!TH EpOy EvSE yeO RTHI SMES SAG EISA SIMjuES vn S TITvTI ONpIjHERINlH IpHyIG IT SHAsE nEENSH IeTE ynr2 juApES. TH E jASSlOR yIS IRxr9v1x yG TlITHOvTTHE xvOTES. THI SISTHEe'"
      ]
     },
     "execution_count": 15,
     "metadata": {},
     "output_type": "execute_result"
    }
   ],
   "source": [
    "# uunEdgRE => ...MORE\n",
    "text = replace(\"d\",\"M\",text,orig)\n",
    "''.join([str(elem) for elem in text])\n",
    "text = replace(\"g\",\"O\",text,orig)\n",
    "''.join([str(elem) for elem in text])"
   ]
  },
  {
   "cell_type": "code",
   "execution_count": 16,
   "id": "409a8e2d",
   "metadata": {},
   "outputs": [
    {
     "data": {
      "text/plain": [
       "'IRST pH AMn EROeT HEpAsES .A SrO vpANSE E,THE REI SNOT HINGO eI NTEREST IN THEpHAMn ER .SO MEOeTHEu ATER pH AMn ERSWI uunEMORE INTE RE STIN GTHANTHISON E!TH EpOD EvSE DeO RTHI SMES SAG EISA SIMPuES vn S TITvTI ONpIPHERINWH IpHDIG IT SHAsE nEENSH IeTE Dnr2 PuApES. TH E PASSWOR DIS IRxr9v1x DG TWITHOvTTHE xvOTES. THI SISTHEe'"
      ]
     },
     "execution_count": 16,
     "metadata": {},
     "output_type": "execute_result"
    }
   ],
   "source": [
    "# jASSlOR yIS => PASSWOR DIS\n",
    "text = replace(\"j\",\"P\",text,orig)\n",
    "''.join([str(elem) for elem in text])\n",
    "text = replace(\"l\",\"W\",text,orig)\n",
    "''.join([str(elem) for elem in text])\n",
    "text = replace(\"y\",\"D\",text,orig)\n",
    "''.join([str(elem) for elem in text])"
   ]
  },
  {
   "cell_type": "code",
   "execution_count": 17,
   "id": "f35e35d1",
   "metadata": {},
   "outputs": [
    {
     "data": {
      "text/plain": [
       "'IRST pH AMn EROFT HEpAsES .A SrO vpANSE E,THE REI SNOT HINGO FI NTEREST IN THEpHAMn ER .SO MEOFTHEu ATER pH AMn ERSWI uunEMORE INTE RE STIN GTHANTHISON E!TH EpOD EvSE DFO RTHI SMES SAG EISA SIMPuES vn S TITvTI ONpIPHERINWH IpHDIG IT SHAsE nEENSH IFTE Dnr2 PuApES. TH E PASSWOR DIS IRxr9v1x DG TWITHOvTTHE xvOTES. THI SISTHEF'"
      ]
     },
     "execution_count": 17,
     "metadata": {},
     "output_type": "execute_result"
    }
   ],
   "source": [
    "# NOT HINGO eI NTEREST => NOT HINGO FI NTEREST\n",
    "text = replace(\"e\",\"F\",text,orig)\n",
    "''.join([str(elem) for elem in text])"
   ]
  },
  {
   "cell_type": "code",
   "execution_count": 18,
   "id": "6d38a89d",
   "metadata": {},
   "outputs": [
    {
     "data": {
      "text/plain": [
       "'IRST pH AMn EROFT HEpAsES .A SrO UpANSE E,THE REI SNOT HINGO FI NTEREST IN THEpHAMn ER .SO MEOFTHEu ATER pH AMn ERSWI uunEMORE INTE RE STIN GTHANTHISON E!TH EpOD EUSE DFO RTHI SMES SAG EISA SIMPuES Un S TITUTI ONpIPHERINWH IpHDIG IT SHAsE nEENSH IFTE Dnr2 PuApES. TH E PASSWOR DIS IRQr9U1Q DG TWITHOUTTHE QUOTES. THI SISTHEF'"
      ]
     },
     "execution_count": 18,
     "metadata": {},
     "output_type": "execute_result"
    }
   ],
   "source": [
    "# TWITHOvTTHE xvOTES => TWITHOUTTHE QUOTES\n",
    "# BC quotes ki backchodi bhi hai kuch\n",
    "text = replace(\"x\",\"Q\",text,orig)\n",
    "''.join([str(elem) for elem in text])\n",
    "text = replace(\"v\",\"U\",text,orig)\n",
    "''.join([str(elem) for elem in text])"
   ]
  },
  {
   "cell_type": "code",
   "execution_count": 19,
   "id": "3f02a7f1",
   "metadata": {},
   "outputs": [
    {
     "data": {
      "text/plain": [
       "'IRST CH AMn EROFT HECAsES .A SrO UCANSE E,THE REI SNOT HINGO FI NTEREST IN THECHAMn ER .SO MEOFTHEL ATER CH AMn ERSWI LLnEMORE INTE RE STIN GTHANTHISON E!TH ECOD EUSE DFO RTHI SMES SAG EISA SIMPLES Un S TITUTI ONCIPHERINWH ICHDIG IT SHAsE nEENSH IFTE Dnr2 PLACES. TH E PASSWOR DIS IRQr9U1Q DG TWITHOUTTHE QUOTES. THI SISTHEF'"
      ]
     },
     "execution_count": 19,
     "metadata": {},
     "output_type": "execute_result"
    }
   ],
   "source": [
    "# TH EpOD EUSE DFO RTHI SMES SAG EISA SIMPuE => TH ECOD EUSE DFO RTHI SMES SAG EISA SIMPLE\n",
    "text = replace(\"p\",\"C\",text,orig)\n",
    "''.join([str(elem) for elem in text])\n",
    "text = replace(\"u\",\"L\",text,orig)\n",
    "''.join([str(elem) for elem in text])"
   ]
  },
  {
   "cell_type": "code",
   "execution_count": 20,
   "id": "cdc5b077",
   "metadata": {},
   "outputs": [
    {
     "data": {
      "text/plain": [
       "'IRST CH AMB EROFT HECAVES .A SrO UCANSE E,THE REI SNOT HINGO FI NTEREST IN THECHAMB ER .SO MEOFTHEL ATER CH AMB ERSWI LLBEMORE INTE RE STIN GTHANTHISON E!TH ECOD EUSE DFO RTHI SMES SAG EISA SIMPLES UB S TITUTI ONCIPHERINWH ICHDIG IT SHAVE BEENSH IFTE DBr2 PLACES. TH E PASSWOR DIS IRQr9U1Q DG TWITHOUTTHE QUOTES. THI SISTHEF'"
      ]
     },
     "execution_count": 20,
     "metadata": {},
     "output_type": "execute_result"
    }
   ],
   "source": [
    "# IRST CH AMn EROFT HECAsES => IRST CH AMB EROFT HECAVES\n",
    "text = replace(\"n\",\"B\",text,orig)\n",
    "''.join([str(elem) for elem in text])\n",
    "text = replace(\"s\",\"V\",text,orig)\n",
    "''.join([str(elem) for elem in text])"
   ]
  },
  {
   "cell_type": "code",
   "execution_count": 21,
   "id": "6b95b161",
   "metadata": {},
   "outputs": [
    {
     "data": {
      "text/plain": [
       "'IRST CH AMB EROFT HECAVES .A SYO UCANSE E,THE REI SNOT HINGO FI NTEREST IN THECHAMB ER .SO MEOFTHEL ATER CH AMB ERSWI LLBEMORE INTE RE STIN GTHANTHISON E!TH ECOD EUSE DFO RTHI SMES SAG EISA SIMPLES UB S TITUTI ONCIPHERINWH ICHDIG IT SHAVE BEENSH IFTE DBY2 PLACES. TH E PASSWOR DIS IRQY9U1Q DG TWITHOUTTHE QUOTES. THI SISTHEF'"
      ]
     },
     "execution_count": 21,
     "metadata": {},
     "output_type": "execute_result"
    }
   ],
   "source": [
    "# IT SHAVE BEENSH IFTE DBr2 PLACES => IT SHAVE BEENSH IFTE DBY2 PLACES\n",
    "text = replace(\"r\",\"Y\",text,orig)\n",
    "''.join([str(elem) for elem in text])"
   ]
  },
  {
   "cell_type": "code",
   "execution_count": null,
   "id": "ab8b670b",
   "metadata": {},
   "outputs": [],
   "source": [
    "# 'IRST CHAMBER OF THE CAVES. AS YOU CAN SEE THERE IS NOTHING OF INTERST IN THE CHAMBER. SOME OF THE LATER CHAMBERS\n",
    "# WILL BE MORE INTERESTING THAN THIS ONE! THE CODE USED FOR THIS MESSAGE IS A SIMPLE SUBSTITUTION CIPHER IN WHICH \n",
    "# DIGITS HAVE BEEN SHIFTED BY 2 PLACES. THE PASSWORD IS IRQY9U1QDGT WITHOUT THE QUOTES. THIS IS THE F'\n",
    "\n",
    "# Pass : \"iRqy9U1qdgt\"\n",
    "# Pass : \"iRqy1U3qdgt\"\n",
    "# Pass : \"iRqy2U4qdgt\"\n",
    "# Pass : \"iRqy3U5qdgt\"   <= Actual pass Brute Forcing\n",
    "# Pass : \"iRqy4U6qdgt\"\n",
    "# Pass : \"iRqy5U7qdgt\"\n",
    "# Pass : \"iRqy6U8qdgt\"\n",
    "# Pass : \"iRqy7U9qdgt\"\n",
    "# Pass : \"iRqy8U0qdgt\"\n",
    "\n"
   ]
  }
 ],
 "metadata": {
  "kernelspec": {
   "display_name": "Python 3",
   "language": "python",
   "name": "python3"
  },
  "language_info": {
   "codemirror_mode": {
    "name": "ipython",
    "version": 3
   },
   "file_extension": ".py",
   "mimetype": "text/x-python",
   "name": "python",
   "nbconvert_exporter": "python",
   "pygments_lexer": "ipython3",
   "version": "3.6.9"
  }
 },
 "nbformat": 4,
 "nbformat_minor": 5
}
